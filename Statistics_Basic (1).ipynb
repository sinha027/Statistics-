{
  "nbformat": 4,
  "nbformat_minor": 0,
  "metadata": {
    "colab": {
      "provenance": []
    },
    "kernelspec": {
      "name": "python3",
      "display_name": "Python 3"
    },
    "language_info": {
      "name": "python"
    }
  },
  "cells": [
    {
      "cell_type": "code",
      "execution_count": null,
      "metadata": {
        "id": "XkZsIzVqnYP7"
      },
      "outputs": [],
      "source": [
        "Theroy Question"
      ]
    },
    {
      "cell_type": "markdown",
      "source": [
        "\n",
        "\n",
        "#1 What is statistics, and why is it important?\n",
        "- Statistics is the science of collecting, analyzing, and interpreting data. It helps in making informed decisions based on data trends and patterns.\n",
        "\n",
        "#2 What are the two main types of statistics?\n",
        "- Descriptive statistics and inferential statistics are the two main types. Descriptive summarizes data, while inferential makes predictions or generalizations.\n",
        "\n",
        "#3 What are descriptive statistics?\n",
        "- Descriptive statistics describe and summarize data using measures like mean, median, mode, and standard deviation.\n",
        "\n",
        "#4 What is inferential statistics?\n",
        "- Inferential statistics draw conclusions or predictions about a population based on data from a sample using techniques like hypothesis testing.\n",
        "\n",
        "#5 What is sampling in statistics?\n",
        "- Sampling is the process of selecting a subset of individuals from a population to estimate characteristics of the whole population.\n",
        "\n",
        "#6 What are the different types of sampling methods?\n",
        "- Sampling methods include random, stratified, cluster, systematic, and convenience sampling.\n",
        "\n",
        "#7 What is the difference between random and non-random sampling?\n",
        "- Random sampling gives every member an equal chance of selection; non-random sampling does not, which may introduce bias.\n",
        "\n",
        "#8 Define and give examples of qualitative and quantitative data?\n",
        "- Qualitative data is categorical (e.g., colors, names), while quantitative data is numerical (e.g., height, age, income).\n",
        "\n",
        "#9 What are the different types of data in statistics?\n",
        "- Types include nominal, ordinal, interval, and ratio. They differ by the level of measurement and whether arithmetic operations make sense.\n",
        "\n",
        "#10 Explain nominal, ordinal, interval, and ratio levels of measurement?\n",
        "\n",
        "* Nominal: categories (e.g., gender)\n",
        "* Ordinal: ordered categories (e.g., rankings)\n",
        "* Interval: numerical, no true zero (e.g., temperature)\n",
        "* Ratio: numerical with true zero (e.g., weight)\n",
        "\n",
        "#11 What is the measure of central tendency?\n",
        "- It is a statistical measure that identifies a single value as representative of an entire dataset, like mean, median, or mode.\n",
        "\n",
        "#12 Define mean, median, and mode?\n",
        "\n",
        "* Mean: average of values\n",
        "* Median: middle value in ordered data\n",
        "* Mode: most frequent value\n",
        "\n",
        "#13 What is the significance of the measure of central tendency?\n",
        "- It helps summarize a large dataset with one representative value, providing insight into the data's general behavior.\n",
        "\n",
        "#14 What is variance, and how is it calculated?\n",
        "- Variance measures the spread of data points from the mean. It's calculated as the average of the squared differences from the mean.\n",
        "\n",
        "#15 What is standard deviation, and why is it important?\n",
        "- Standard deviation shows how spread out the data is from the mean. It’s the square root of variance and helps assess variability.\n",
        "\n",
        "#16 Define and explain the term range in statistics?\n",
        "- Range is the difference between the highest and lowest values in a dataset. It gives a basic idea of data spread.\n",
        "\n",
        "#17 What is the difference between variance and standard deviation?\n",
        "- Variance is the average squared deviation from the mean, while standard deviation is its square root, keeping units consistent with the data.\n",
        "\n",
        "#18 What is skewness in a dataset?\n",
        "- Skewness measures the asymmetry of a data distribution. A skewed dataset is not evenly distributed around the mean.\n",
        "\n",
        "#19 What does it mean if a dataset is positively or negatively skewed?\n",
        "\n",
        "- Positive skew: tail on the right, mean > median\n",
        "- Negative skew: tail on the left, mean < median\n",
        "\n",
        "#20 Define and explain kurtosis?\n",
        "- Kurtosis describes the \"tailedness\" of a distribution. High kurtosis means heavy tails; low kurtosis means light tails.\n",
        "\n",
        "#21 What is the purpose of covariance?\n",
        "- Covariance shows the direction of a linear relationship between two variables—whether they increase or decrease together.\n",
        "\n",
        "#22 What does correlation measure in statistics?\n",
        "- Correlation quantifies the strength and direction of a linear relationship between two variables, ranging from -1 to 1.\n",
        "\n",
        "#23 What is the difference between covariance and correlation?\n",
        "- Covariance shows direction only, while correlation shows both direction and strength, and is normalized between -1 and 1.\n",
        "\n",
        "#24 What are some real-world applications of statistics?\n",
        "- Statistics is used in healthcare (clinical trials), business (market analysis), sports (performance tracking), government (policy making), and more.\n"
      ],
      "metadata": {
        "id": "-yBSvf54n0hF"
      }
    },
    {
      "cell_type": "code",
      "source": [
        "Practical Question"
      ],
      "metadata": {
        "id": "T2UcR0sXo4BG"
      },
      "execution_count": null,
      "outputs": []
    },
    {
      "cell_type": "code",
      "source": [
        "#1 How do you calculate the mean, median, and mode of a dataset\n",
        "\n",
        "import statistics\n",
        "\n",
        "data = [12, 15, 12, 18, 20, 15, 17, 16, 12, 18]\n",
        "mean = statistics.mean(data)\n",
        "median = statistics.median(data)\n",
        "mode = statistics.mode(data)\n",
        "print(f\"Mean: {mean}\")\n",
        "print(f\"Median: {median}\")\n",
        "print(f\"Mode: {mode}\")\n"
      ],
      "metadata": {
        "colab": {
          "base_uri": "https://localhost:8080/"
        },
        "id": "43-ORfSpo8NB",
        "outputId": "dba4a372-0e28-4edf-b6df-e13ef8150726"
      },
      "execution_count": 2,
      "outputs": [
        {
          "output_type": "stream",
          "name": "stdout",
          "text": [
            "Mean: 15.5\n",
            "Median: 15.5\n",
            "Mode: 12\n"
          ]
        }
      ]
    },
    {
      "cell_type": "code",
      "source": [
        "#2 Write a Python program to compute the variance and standard deviation of a dataset\n",
        "\n",
        "data = [5, 10, 15, 20, 25]\n",
        "variance = np.var(data, ddof=1)\n",
        "std_dev = np.std(data, ddof=1)\n",
        "\n",
        "print(\"Variance:\", variance)\n",
        "print(\"Standard Deviation:\", std_dev)\n"
      ],
      "metadata": {
        "colab": {
          "base_uri": "https://localhost:8080/"
        },
        "id": "GurI4aZlo8At",
        "outputId": "7d5c9145-3c7e-401d-d347-9cdd90f895f2"
      },
      "execution_count": 3,
      "outputs": [
        {
          "output_type": "stream",
          "name": "stdout",
          "text": [
            "Variance: 62.5\n",
            "Standard Deviation: 7.905694150420948\n"
          ]
        }
      ]
    },
    {
      "cell_type": "code",
      "source": [
        "#3 Create a dataset and classify it into nominal, ordinal, interval, and ratio types\n",
        "\n",
        "nominal = ['Red', 'Blue', 'Green']\n",
        "ordinal = ['Small', 'Medium', 'Large']\n",
        "interval = [10, 20, 30, 40]  # Temperature in Celsius\n",
        "ratio = [5, 10, 15, 20]  # Weight\n",
        "\n",
        "print(\"Nominal:\", nominal)\n",
        "print(\"Ordinal:\", ordinal)\n",
        "print(\"Interval:\", interval)\n",
        "print(\"Ratio:\", ratio)\n",
        "\n"
      ],
      "metadata": {
        "colab": {
          "base_uri": "https://localhost:8080/"
        },
        "id": "Vr4ZFU2Zo72D",
        "outputId": "a9ccb3cf-0c47-476d-a059-5891b306a743"
      },
      "execution_count": 4,
      "outputs": [
        {
          "output_type": "stream",
          "name": "stdout",
          "text": [
            "Nominal: ['Red', 'Blue', 'Green']\n",
            "Ordinal: ['Small', 'Medium', 'Large']\n",
            "Interval: [10, 20, 30, 40]\n",
            "Ratio: [5, 10, 15, 20]\n"
          ]
        }
      ]
    },
    {
      "cell_type": "code",
      "source": [
        "#4 Implement sampling techniques like random sampling and stratified sampling\n",
        "\n",
        "import pandas as pd\n",
        "from sklearn.model_selection import train_test_split\n",
        "\n",
        "df = pd.DataFrame({\n",
        "    'Gender': ['M', 'F', 'M', 'F', 'M', 'F', 'M', 'F'],\n",
        "    'Score': [50, 60, 70, 80, 90, 85, 75, 65]\n",
        "})\n",
        "\n",
        "# Random sampling\n",
        "random_sample = df.sample(n=4)\n",
        "\n",
        "# Stratified sampling\n",
        "stratified_sample, _ = train_test_split(df, stratify=df['Gender'], test_size=0.5)\n",
        "\n",
        "print(\"Random Sample:\\n\", random_sample)\n",
        "print(\"Stratified Sample:\\n\", stratified_sample)\n"
      ],
      "metadata": {
        "colab": {
          "base_uri": "https://localhost:8080/"
        },
        "id": "hclQUgqIo7rJ",
        "outputId": "bd4acad5-3d8c-43d6-be3c-821728229651"
      },
      "execution_count": 5,
      "outputs": [
        {
          "output_type": "stream",
          "name": "stdout",
          "text": [
            "Random Sample:\n",
            "   Gender  Score\n",
            "6      M     75\n",
            "0      M     50\n",
            "2      M     70\n",
            "1      F     60\n",
            "Stratified Sample:\n",
            "   Gender  Score\n",
            "1      F     60\n",
            "6      M     75\n",
            "2      M     70\n",
            "5      F     85\n"
          ]
        }
      ]
    },
    {
      "cell_type": "code",
      "source": [
        "#5 Write a Python function to calculate the range of a dataset\n",
        "\n",
        "def calculate_range(data):\n",
        "    return max(data) - min(data)\n",
        "\n",
        "print(\"Range:\", calculate_range([2, 4, 6, 8, 10]))\n"
      ],
      "metadata": {
        "colab": {
          "base_uri": "https://localhost:8080/"
        },
        "id": "Hk_lEkGqo7gT",
        "outputId": "b30d8bba-438c-4bfa-fbf7-8a732441c915"
      },
      "execution_count": 6,
      "outputs": [
        {
          "output_type": "stream",
          "name": "stdout",
          "text": [
            "Range: 8\n"
          ]
        }
      ]
    },
    {
      "cell_type": "code",
      "source": [
        "#6 Create a dataset and plot its histogram to visualize skewness\n",
        "\n",
        "import matplotlib.pyplot as plt\n",
        "\n",
        "data = [10, 12, 13, 15, 18, 25, 50]\n",
        "plt.hist(data, bins=5)\n",
        "plt.title(\"Histogram to Visualize Skewness\")\n",
        "plt.xlabel(\"Values\")\n",
        "plt.ylabel(\"Frequency\")\n",
        "plt.show()\n"
      ],
      "metadata": {
        "colab": {
          "base_uri": "https://localhost:8080/",
          "height": 472
        },
        "id": "LK9rsFJRo7Vv",
        "outputId": "8036f681-5098-4225-b8fe-3268be644fe6"
      },
      "execution_count": 7,
      "outputs": [
        {
          "output_type": "display_data",
          "data": {
            "text/plain": [
              "<Figure size 640x480 with 1 Axes>"
            ],
            "image/png": "[encoded data removed]"
          },
          "metadata": {}
        }
      ]
    },
    {
      "cell_type": "code",
      "source": [
        "#7 Calculate skewness and kurtosis of a dataset using Python libraries\n",
        "\n",
        "from scipy.stats import skew, kurtosis\n",
        "\n",
        "data = [10, 15, 20, 25, 30, 80]\n",
        "print(\"Skewness:\", skew(data))\n",
        "print(\"Kurtosis:\", kurtosis(data))\n"
      ],
      "metadata": {
        "colab": {
          "base_uri": "https://localhost:8080/"
        },
        "id": "AfyPKcLJo7KU",
        "outputId": "3deab9b6-de46-4b51-c2b2-2e80425cd5d9"
      },
      "execution_count": 8,
      "outputs": [
        {
          "output_type": "stream",
          "name": "stdout",
          "text": [
            "Skewness: 1.4873155076203606\n",
            "Kurtosis: 0.6759763313609475\n"
          ]
        }
      ]
    },
    {
      "cell_type": "code",
      "source": [
        "#8 Generate a dataset and demonstrate positive and negative skewness\n",
        "\n",
        "# Positive skew\n",
        "data_pos = [1, 2, 3, 4, 5, 100]\n",
        "# Negative skew\n",
        "data_neg = [100, 95, 90, 80, 70, 5]\n",
        "\n",
        "print(\"Positive Skewness:\", skew(data_pos))\n",
        "print(\"Negative Skewness:\", skew(data_neg))\n"
      ],
      "metadata": {
        "colab": {
          "base_uri": "https://localhost:8080/"
        },
        "id": "zYdYzGJHo6_Y",
        "outputId": "62dca917-95cb-4f98-fd44-3bc5716fcb8e"
      },
      "execution_count": 9,
      "outputs": [
        {
          "output_type": "stream",
          "name": "stdout",
          "text": [
            "Positive Skewness: 1.783729813919215\n",
            "Negative Skewness: -1.4360552396237882\n"
          ]
        }
      ]
    },
    {
      "cell_type": "code",
      "source": [
        "#9 Write a Python script to calculate covariance between two datasets\n",
        "\n",
        "x = [2, 4, 6, 8]\n",
        "y = [1, 3, 2, 5]\n",
        "\n",
        "cov = np.cov(x, y)[0][1]\n",
        "print(\"Covariance:\", cov)\n"
      ],
      "metadata": {
        "colab": {
          "base_uri": "https://localhost:8080/"
        },
        "id": "x597c1Bho62F",
        "outputId": "bd997b2a-bbbc-4149-8dd3-325f8941aad5"
      },
      "execution_count": 10,
      "outputs": [
        {
          "output_type": "stream",
          "name": "stdout",
          "text": [
            "Covariance: 3.6666666666666665\n"
          ]
        }
      ]
    },
    {
      "cell_type": "code",
      "source": [
        "#10 Write a Python script to calculate the correlation coefficient between two datasets\n",
        "\n",
        "correlation = np.corrcoef(x, y)[0][1]\n",
        "print(\"Correlation Coefficient:\", correlation)\n"
      ],
      "metadata": {
        "colab": {
          "base_uri": "https://localhost:8080/"
        },
        "id": "uwpkBbjjo6sZ",
        "outputId": "89dedf3a-fec9-496f-9357-a90736ee78ab"
      },
      "execution_count": 11,
      "outputs": [
        {
          "output_type": "stream",
          "name": "stdout",
          "text": [
            "Correlation Coefficient: 0.8315218406202999\n"
          ]
        }
      ]
    },
    {
      "cell_type": "code",
      "source": [
        "#11 Create a scatter plot to visualize the relationship between two variables\n",
        "\n",
        "plt.scatter(x, y)\n",
        "plt.title(\"Scatter Plot\")\n",
        "plt.xlabel(\"X values\")\n",
        "plt.ylabel(\"Y values\")\n",
        "plt.show()\n"
      ],
      "metadata": {
        "colab": {
          "base_uri": "https://localhost:8080/",
          "height": 472
        },
        "id": "EzquTFbfo6id",
        "outputId": "9befa9c3-5d08-4b4d-b30a-66ec93d6a91d"
      },
      "execution_count": 12,
      "outputs": [
        {
          "output_type": "display_data",
          "data": {
            "text/plain": [
              "<Figure size 640x480 with 1 Axes>"
            ],
            "image/png": "[encoded data removed]"
          },
          "metadata": {}
        }
      ]
    },
    {
      "cell_type": "code",
      "source": [
        "#12 Implement and compare simple random sampling and systematic sampling\n",
        "\n",
        "import random\n",
        "\n",
        "data = list(range(1, 101))\n",
        "\n",
        "# Simple random sample\n",
        "simple_random = random.sample(data, 10)\n",
        "\n",
        "# Systematic sampling\n",
        "interval = len(data) // 10\n",
        "systematic = data[::interval]\n",
        "\n",
        "print(\"Simple Random Sample:\", simple_random)\n",
        "print(\"Systematic Sample:\", systematic)\n"
      ],
      "metadata": {
        "colab": {
          "base_uri": "https://localhost:8080/"
        },
        "id": "rbeMYgr5o6Yv",
        "outputId": "580c25a2-2d7d-4070-beb8-3bc321dc6449"
      },
      "execution_count": 13,
      "outputs": [
        {
          "output_type": "stream",
          "name": "stdout",
          "text": [
            "Simple Random Sample: [34, 29, 83, 45, 78, 8, 84, 37, 9, 62]\n",
            "Systematic Sample: [1, 11, 21, 31, 41, 51, 61, 71, 81, 91]\n"
          ]
        }
      ]
    },
    {
      "cell_type": "code",
      "source": [
        "#13 Calculate the mean, median, and mode of grouped data\n",
        "\n",
        "grouped_data = {\n",
        "    \"class_intervals\": [(0, 10), (10, 20), (20, 30)],\n",
        "    \"frequencies\": [5, 10, 5]\n",
        "}\n",
        "\n",
        "# Mean of grouped data\n",
        "midpoints = [(x[0]+x[1])/2 for x in grouped_data[\"class_intervals\"]]\n",
        "mean = np.average(midpoints, weights=grouped_data[\"frequencies\"])\n",
        "\n",
        "print(\"Grouped Data Mean:\", mean)\n"
      ],
      "metadata": {
        "colab": {
          "base_uri": "https://localhost:8080/"
        },
        "id": "Bv5iX-Soo6N2",
        "outputId": "2affda20-7f0b-447e-e144-8f3f98c6cf0d"
      },
      "execution_count": 14,
      "outputs": [
        {
          "output_type": "stream",
          "name": "stdout",
          "text": [
            "Grouped Data Mean: 15.0\n"
          ]
        }
      ]
    },
    {
      "cell_type": "code",
      "source": [
        "#14 Simulate data using Python and calculate its central tendency and dispersion\n",
        "\n",
        "simulated = np.random.normal(loc=50, scale=10, size=100)\n",
        "\n",
        "print(\"Mean:\", np.mean(simulated))\n",
        "print(\"Median:\", np.median(simulated))\n",
        "print(\"Standard Deviation:\", np.std(simulated))\n"
      ],
      "metadata": {
        "colab": {
          "base_uri": "https://localhost:8080/"
        },
        "id": "n64SKdVUo6GQ",
        "outputId": "82d9d20c-61da-4fc4-8dbb-71c6bfcad355"
      },
      "execution_count": 15,
      "outputs": [
        {
          "output_type": "stream",
          "name": "stdout",
          "text": [
            "Mean: 49.73321828977227\n",
            "Median: 50.22860028127502\n",
            "Standard Deviation: 8.318595300649324\n"
          ]
        }
      ]
    },
    {
      "cell_type": "code",
      "source": [
        "#15 Use NumPy or pandas to summarize a dataset’s descriptive statistics\n",
        "\n",
        "df = pd.DataFrame({'Scores': simulated})\n",
        "print(df.describe())\n"
      ],
      "metadata": {
        "colab": {
          "base_uri": "https://localhost:8080/"
        },
        "id": "9qJkWYPIo56U",
        "outputId": "17ccf9f2-a7e2-4a4f-d2bd-34033979add5"
      },
      "execution_count": 16,
      "outputs": [
        {
          "output_type": "stream",
          "name": "stdout",
          "text": [
            "           Scores\n",
            "count  100.000000\n",
            "mean    49.733218\n",
            "std      8.360503\n",
            "min     21.766854\n",
            "25%     44.716748\n",
            "50%     50.228600\n",
            "75%     55.887496\n",
            "max     73.372789\n"
          ]
        }
      ]
    },
    {
      "cell_type": "code",
      "source": [
        "#16 Plot a boxplot to understand the spread and identify outliers\n",
        "\n",
        "plt.boxplot(simulated)\n",
        "plt.title(\"Boxplot of Simulated Data\")\n",
        "plt.show()\n"
      ],
      "metadata": {
        "colab": {
          "base_uri": "https://localhost:8080/",
          "height": 452
        },
        "id": "7J7B-ncvo5vB",
        "outputId": "39a2ff40-6b9d-4e17-b994-c0577dd895ac"
      },
      "execution_count": 17,
      "outputs": [
        {
          "output_type": "display_data",
          "data": {
            "text/plain": [
              "<Figure size 640x480 with 1 Axes>"
            ],
            "image/png": "[encoded data removed]"
          },
          "metadata": {}
        }
      ]
    },
    {
      "cell_type": "code",
      "source": [
        "#17 Calculate the interquartile range (IQR) of a dataset\n",
        "\n",
        "Q1 = np.percentile(simulated, 25)\n",
        "Q3 = np.percentile(simulated, 75)\n",
        "IQR = Q3 - Q1\n",
        "\n",
        "print(\"Interquartile Range (IQR):\", IQR)\n"
      ],
      "metadata": {
        "colab": {
          "base_uri": "https://localhost:8080/"
        },
        "id": "EEGGKP2Fo5lv",
        "outputId": "8c766fdc-89f1-4b1d-f3f0-183f70f86ec1"
      },
      "execution_count": 18,
      "outputs": [
        {
          "output_type": "stream",
          "name": "stdout",
          "text": [
            "Interquartile Range (IQR): 11.170748806872133\n"
          ]
        }
      ]
    },
    {
      "cell_type": "code",
      "source": [
        "#18 Implement Z-score normalization and explain its significance\n",
        "\n",
        "from scipy.stats import zscore\n",
        "\n",
        "z_scores = zscore(simulated)\n",
        "print(\"First 5 Z-scores:\", z_scores[:5])\n",
        "# Z-score normalization transforms data to have mean 0 and std 1.\n"
      ],
      "metadata": {
        "colab": {
          "base_uri": "https://localhost:8080/"
        },
        "id": "tdGI2QRZo4We",
        "outputId": "84d201ac-adca-47d9-9bb3-3e62ba9ce392"
      },
      "execution_count": 19,
      "outputs": [
        {
          "output_type": "stream",
          "name": "stdout",
          "text": [
            "First 5 Z-scores: [-1.29496298  0.77742294  0.72728807 -0.88045985  0.60999675]\n"
          ]
        }
      ]
    },
    {
      "cell_type": "code",
      "source": [
        "#19 Compare two datasets using their standard deviations\n",
        "\n",
        "data1 = np.random.normal(50, 5, 100)\n",
        "data2 = np.random.normal(50, 15, 100)\n",
        "\n",
        "print(\"Standard Deviation of Data1:\", np.std(data1))\n",
        "print(\"Standard Deviation of Data2:\", np.std(data2))\n"
      ],
      "metadata": {
        "colab": {
          "base_uri": "https://localhost:8080/"
        },
        "id": "bfwKK23Po4TH",
        "outputId": "0bee32fa-ed98-473b-aa02-f7f18894f06e"
      },
      "execution_count": 20,
      "outputs": [
        {
          "output_type": "stream",
          "name": "stdout",
          "text": [
            "Standard Deviation of Data1: 5.22839591245711\n",
            "Standard Deviation of Data2: 15.44184080907238\n"
          ]
        }
      ]
    },
    {
      "cell_type": "code",
      "source": [
        "#20 Write a Python program to visualize covariance using a heatmap\n",
        "\n",
        "import seaborn as sns\n",
        "\n",
        "df = pd.DataFrame({'x': x, 'y': y})\n",
        "sns.heatmap(df.cov(), annot=True, cmap='coolwarm')\n",
        "plt.title(\"Covariance Heatmap\")\n",
        "plt.show()\n"
      ],
      "metadata": {
        "colab": {
          "base_uri": "https://localhost:8080/",
          "height": 452
        },
        "id": "T6n9zl5Ko4Qt",
        "outputId": "4322ee8b-d442-4121-87af-95dfc829ee49"
      },
      "execution_count": 21,
      "outputs": [
        {
          "output_type": "display_data",
          "data": {
            "text/plain": [
              "<Figure size 640x480 with 2 Axes>"
            ],
            "image/png": "[encoded data removed]"
          },
          "metadata": {}
        }
      ]
    },
    {
      "cell_type": "code",
      "source": [
        "#21 Use seaborn to create a correlation matrix for a dataset\n",
        "\n",
        "sns.heatmap(df.corr(), annot=True, cmap='coolwarm')\n",
        "plt.title(\"Correlation Matrix\")\n",
        "plt.show()\n"
      ],
      "metadata": {
        "colab": {
          "base_uri": "https://localhost:8080/",
          "height": 452
        },
        "id": "Us_7mbaBo4Oh",
        "outputId": "96f68a5f-db2c-4be4-bcde-b379394b3965"
      },
      "execution_count": 22,
      "outputs": [
        {
          "output_type": "display_data",
          "data": {
            "text/plain": [
              "<Figure size 640x480 with 2 Axes>"
            ],
            "image/png": "[encoded data removed]"
          },
          "metadata": {}
        }
      ]
    },
    {
      "cell_type": "code",
      "source": [
        "#22 Generate a dataset and implement both variance and standard deviation computations\n",
        "\n",
        "data = np.random.randint(10, 100, 50)\n",
        "\n",
        "print(\"Variance:\", np.var(data, ddof=1))\n",
        "print(\"Standard Deviation:\", np.std(data, ddof=1))\n"
      ],
      "metadata": {
        "colab": {
          "base_uri": "https://localhost:8080/"
        },
        "id": "6v6CmbLmo4MD",
        "outputId": "24886d4c-6199-4c3b-b33b-8cd6c61eb1c3"
      },
      "execution_count": 23,
      "outputs": [
        {
          "output_type": "stream",
          "name": "stdout",
          "text": [
            "Variance: 710.4799999999999\n",
            "Standard Deviation: 26.654830706646777\n"
          ]
        }
      ]
    },
    {
      "cell_type": "code",
      "source": [
        "#23 Visualize skewness and kurtosis using Python libraries like matplotlib or seaborn\n",
        "\n",
        "sns.histplot(data, kde=True)\n",
        "plt.title(\"Histogram with KDE\")\n",
        "plt.show()\n",
        "\n",
        "print(\"Skewness:\", skew(data))\n",
        "print(\"Kurtosis:\", kurtosis(data))\n"
      ],
      "metadata": {
        "colab": {
          "base_uri": "https://localhost:8080/",
          "height": 487
        },
        "id": "t8XBHe04o4IA",
        "outputId": "25a77350-44e2-4635-f99b-8fc14a526370"
      },
      "execution_count": 24,
      "outputs": [
        {
          "output_type": "display_data",
          "data": {
            "text/plain": [
              "<Figure size 640x480 with 1 Axes>"
            ],
            "image/png": "[encoded data removed]"
          },
          "metadata": {}
        },
        {
          "output_type": "stream",
          "name": "stdout",
          "text": [
            "Skewness: -0.08311476843734922\n",
            "Kurtosis: -1.2888236428363142\n"
          ]
        }
      ]
    },
    {
      "cell_type": "code",
      "source": [
        "#24 Implement the Pearson and Spearman correlation coefficients for a dataset\n",
        "\n",
        "from scipy.stats import pearsonr, spearmanr\n",
        "\n",
        "pearson_corr, _ = pearsonr(x, y)\n",
        "spearman_corr, _ = spearmanr(x, y)\n",
        "\n",
        "print(\"Pearson Correlation:\", pearson_corr)\n",
        "print(\"Spearman Correlation:\", spearman_corr)\n"
      ],
      "metadata": {
        "colab": {
          "base_uri": "https://localhost:8080/"
        },
        "id": "7lzmqjwQo4Fy",
        "outputId": "f9d332e6-4ee6-4431-c091-42d0e3260645"
      },
      "execution_count": 25,
      "outputs": [
        {
          "output_type": "stream",
          "name": "stdout",
          "text": [
            "Pearson Correlation: 0.8315218406202999\n",
            "Spearman Correlation: 0.7999999999999999\n"
          ]
        }
      ]
    }
  ]
}