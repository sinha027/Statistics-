{
  "cells": [
    {
      "cell_type": "markdown",
      "metadata": {
        "id": "i_rOPJunXzy0"
      },
      "source": [
        "## Statistics Advance Part 1\n"
      ]
    },
    {
      "cell_type": "markdown",
      "metadata": {
        "id": "MBTHlL5vX9Iq"
      },
      "source": [
        "1. What is a random variable in probability theory?\n",
        "    \n",
        "    A random variable is a function that assigns numerical values to the outcomes of a random experiment. It can be:\n",
        "\n",
        "    Discrete (finite/countable outcomes) or\n",
        "\n",
        "    Continuous (infinite/uncountable outcomes)."
      ]
    },
    {
      "cell_type": "markdown",
      "metadata": {
        "id": "sgNVTVXzYJ76"
      },
      "source": [
        "2. What are the types of random variables?\n",
        "\n",
        "    Discrete Random Variable: Takes countable values (e.g., number of heads in 3 coin tosses).\n",
        "\n",
        "    Continuous Random Variable: Takes any value within a range (e.g., height, time)."
      ]
    },
    {
      "cell_type": "markdown",
      "metadata": {
        "id": "mZuhm8xgYO6i"
      },
      "source": [
        "3. What is the difference between discrete and continuous distributions?\n",
        "\n",
        "    Discrete Distribution: Probability is assigned to each distinct value.\n",
        "\n",
        "    Continuous Distribution: Probability is defined over intervals using a density function.\n",
        "\n"
      ]
    },
    {
      "cell_type": "markdown",
      "metadata": {
        "id": "kBqTw_jTYXSi"
      },
      "source": [
        "4. What are probability distribution functions (PDF)?\n",
        "\n",
        "    PDF (for continuous variables): A function that describes the relative likelihood of a variable to take a value.\n",
        "\n",
        "    For discrete variables, it's often called a Probability Mass Function (PMF)."
      ]
    },
    {
      "cell_type": "markdown",
      "metadata": {
        "id": "I8FuPKctYbsy"
      },
      "source": [
        "5. How do cumulative distribution functions (CDF) differ from probability distribution functions (PDF)?\n",
        "\n",
        "    PDF gives the probability density at a point.\n",
        "\n",
        "    CDF gives the cumulative probability up to a point:\n",
        "    𝑃(𝑋≤𝑥)."
      ]
    },
    {
      "cell_type": "markdown",
      "metadata": {
        "id": "piVfBDLfYtHL"
      },
      "source": [
        "6. What is a discrete uniform distribution?\n",
        "    \n",
        "    A discrete uniform distribution assigns equal probability to all possible discrete outcomes (e.g., rolling a fair die).\n",
        "\n"
      ]
    },
    {
      "cell_type": "markdown",
      "metadata": {
        "id": "8W10gnNMYy4x"
      },
      "source": [
        "7. What are the key properties of a Bernoulli distribution?\n",
        "  \n",
        "    Two outcomes: success (1) or failure (0).\n",
        "\n",
        "    Parameter:\n",
        "𝑝\n",
        "p = probability of success.\n",
        "\n",
        "    Mean:\n",
        "𝑝\n",
        "p; Variance:\n",
        "𝑝\n",
        "(\n",
        "1\n",
        "−\n",
        "𝑝\n",
        ")\n",
        "p(1−p).\n",
        "\n"
      ]
    },
    {
      "cell_type": "markdown",
      "metadata": {
        "id": "-PYSfjfiY_3y"
      },
      "source": [
        "8. What is the binomial distribution, and how is it used in probability?\n",
        "  \n",
        "    Models the number of successes in\n",
        "𝑛\n",
        "n independent Bernoulli trials.\n",
        "\n",
        "    Parameters:\n",
        "𝑛\n",
        "n (trials),\n",
        "𝑝\n",
        "p (success probability).\n",
        "\n",
        "    Example: Number of heads in 10 coin flips.\n",
        "\n"
      ]
    },
    {
      "cell_type": "markdown",
      "metadata": {
        "id": "m-jhkZH_ZGRK"
      },
      "source": [
        "9. What is the Poisson distribution and where is it applied?\n",
        "\n",
        "    Models the number of events in a fixed interval (time/space) given a constant average rate.\n",
        "\n",
        "    Example: Calls received by a call center per hour.\n",
        "\n"
      ]
    },
    {
      "cell_type": "markdown",
      "metadata": {
        "id": "NeoQGag9ZI0C"
      },
      "source": [
        "10. What is a continuous uniform distribution?\n",
        "  \n",
        "    A distribution where every value in an interval\n",
        "[\n",
        "𝑎\n",
        ",\n",
        "𝑏\n",
        "]\n",
        "[a,b] is equally likely.\n",
        "\n",
        "    PDF:\n",
        "𝑓\n",
        "(\n",
        "𝑥\n",
        ")\n",
        "=\n",
        "1\n",
        "𝑏\n",
        "−\n",
        "𝑎\n",
        "f(x)=\n",
        "b−a\n",
        "1\n",
        "​\n",
        "  for\n",
        "𝑥\n",
        "∈\n",
        "[\n",
        "𝑎\n",
        ",\n",
        "𝑏\n",
        "]\n",
        "x∈[a,b]."
      ]
    },
    {
      "cell_type": "markdown",
      "metadata": {
        "id": "mkLozjTjcRcI"
      },
      "source": [
        "11. What are the characteristics of a normal distribution?\n",
        "\n",
        "    Symmetrical, bell-shaped curve.\n",
        "\n",
        "    Mean = Median = Mode.\n",
        "\n",
        "    Defined by mean\n",
        "𝜇\n",
        "μ and standard deviation\n",
        "𝜎\n",
        "σ."
      ]
    },
    {
      "cell_type": "markdown",
      "metadata": {
        "id": "6meZT97NcXLI"
      },
      "source": [
        "12. What is the standard normal distribution, and why is it important?\n",
        "    \n",
        "    Normal distribution with\n",
        "𝜇\n",
        "=\n",
        "0\n",
        "μ=0,\n",
        "𝜎\n",
        "=\n",
        "1\n",
        "σ=1.\n",
        "\n",
        "    Used for standardizing values (Z-scores) and statistical tables."
      ]
    },
    {
      "cell_type": "markdown",
      "metadata": {
        "id": "y1brkCg4ceIP"
      },
      "source": [
        "13. What is the Central Limit Theorem (CLT), and why is it critical in statistics?\n",
        "\n",
        "    CLT: The sampling distribution of the sample mean approaches a normal distribution as the sample size increases, regardless of the original population distribution.\n",
        "\n",
        "    Crucial for inference and hypothesis testing."
      ]
    },
    {
      "cell_type": "markdown",
      "metadata": {
        "id": "RMwhxztVcm-v"
      },
      "source": [
        "14. How does the Central Limit Theorem relate to the normal distribution?\n",
        "\n",
        "    It justifies using the normal distribution to approximate the distribution of sample means when sample size is large.\n",
        "\n"
      ]
    },
    {
      "cell_type": "markdown",
      "metadata": {
        "id": "YO6Rj2LpcqVW"
      },
      "source": [
        "15. What is the application of Z statistics in hypothesis testing?\n",
        "    \n",
        "    Z-statistics are used to compare sample data to population parameters when the population standard deviation is known.\n",
        "\n",
        "    Helps in accepting or rejecting a null hypothesis.\n",
        "\n"
      ]
    },
    {
      "cell_type": "markdown",
      "metadata": {
        "id": "AzwLGlAQcuV2"
      },
      "source": [
        "16. How do you calculate a Z-score, and what does it represent?\n",
        "𝑍\n",
        "=\n",
        "𝑋\n",
        "−\n",
        "𝜇\n",
        "𝜎\n",
        "Z=\n",
        "σ\n",
        "X−μ\n",
        "​\n",
        "\n",
        "  It shows how many standard deviations a data point is from the mean."
      ]
    },
    {
      "cell_type": "markdown",
      "metadata": {
        "id": "QJ-M14VJc5_f"
      },
      "source": [
        "17. What are point estimates and interval estimates in statistics?\n",
        "\n",
        "    Point Estimate: Single value estimate of a population parameter (e.g., sample mean).\n",
        "\n",
        "    Interval Estimate: Range of values (confidence interval) likely to include the parameter."
      ]
    },
    {
      "cell_type": "markdown",
      "metadata": {
        "id": "cpym-Ucwc-CY"
      },
      "source": [
        "18. What is the significance of confidence intervals in statistical analysis?\n",
        "\n",
        "    Shows the range in which the true parameter lies with a given confidence level (e.g., 95%).\n",
        "\n",
        "    Indicates precision of estimate."
      ]
    },
    {
      "cell_type": "markdown",
      "metadata": {
        "id": "SWqoyErkdDm3"
      },
      "source": [
        "19. What is the relationship between a Z-score and a confidence interval?\n",
        "\n",
        "    Z-scores determine the boundaries of a confidence interval for a normal distribution.\n",
        "\n",
        "    Example: 95% confidence uses Z = ±1.96.\n",
        "\n"
      ]
    },
    {
      "cell_type": "markdown",
      "metadata": {
        "id": "pzgmUYwpdH3f"
      },
      "source": [
        "20. How are Z-scores used to compare different distributions?\n",
        "    \n",
        "    Standardizes values from different distributions to a common scale.\n",
        "\n",
        "    Useful for relative comparison.\n",
        "\n"
      ]
    },
    {
      "cell_type": "markdown",
      "metadata": {
        "id": "nXMGSDsrdMHP"
      },
      "source": [
        "21. What are the assumptions for applying the Central Limit Theorem?\n",
        "\n",
        "    Independent samples.\n",
        "\n",
        "    Sample size is large (typically\n",
        "𝑛\n",
        "≥\n",
        "30\n",
        "n≥30).\n",
        "\n",
        "    Finite variance."
      ]
    },
    {
      "cell_type": "markdown",
      "metadata": {
        "id": "_rkPHreFdSx4"
      },
      "source": [
        "22. What is the concept of expected value in a probability distribution?\n",
        "\n",
        "    Expected value (E[X]): Weighted average of all possible outcomes.\n",
        "\n",
        "    For discrete:\n",
        "𝐸\n",
        "[\n",
        "𝑋\n",
        "]\n",
        "=\n",
        "∑\n",
        "𝑥\n",
        "⋅\n",
        "𝑃\n",
        "(\n",
        "𝑥\n",
        ")\n",
        "E[X]=∑x⋅P(x)\n",
        "\n"
      ]
    },
    {
      "cell_type": "markdown",
      "metadata": {
        "id": "nMFPO7ksdXIm"
      },
      "source": [
        "23. How does a probability distribution relate to the expected outcome of a random variable?\n",
        "\n",
        "    The distribution assigns probabilities to outcomes, and the expected value is the long-run average outcome based on that distribution."
      ]
    }
  ],
  "metadata": {
    "colab": {
      "provenance": []
    },
    "kernelspec": {
      "display_name": "Python 3",
      "name": "python3"
    },
    "language_info": {
      "name": "python"
    }
  },
  "nbformat": 4,
  "nbformat_minor": 0
}
