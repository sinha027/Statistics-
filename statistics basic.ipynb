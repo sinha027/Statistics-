{
 "cells": [
  {
   "cell_type": "markdown",
   "id": "645f567b",
   "metadata": {},
   "source": [
    "# 📊 Statistics Fundamentals: Theory and Practical in Python"
   ]
  },
  {
   "cell_type": "markdown",
   "id": "888c9518",
   "metadata": {},
   "source": [
    "\n",
    "## 📘 Statistics Basics\n",
    "\n",
    "### 1. What is statistics, and why is it important?\n",
    "Statistics is the science of collecting, organizing, analyzing, interpreting, and presenting data.  \n",
    "**Importance**: Helps in decision-making, understanding trends, making predictions, and validating hypotheses in various fields.\n",
    "\n",
    "### 2. What are the two main types of statistics?\n",
    "- **Descriptive Statistics**: Summarize and describe the features of a dataset.\n",
    "- **Inferential Statistics**: Make predictions or inferences about a population based on a sample.\n",
    "\n",
    "### 3. What are descriptive statistics?\n",
    "They summarize and organize characteristics of a dataset. Includes:\n",
    "- Measures of central tendency (mean, median, mode)\n",
    "- Measures of variability (range, variance, standard deviation)\n",
    "\n",
    "### 4. What is inferential statistics?\n",
    "It uses a sample to draw conclusions about a population. Includes hypothesis testing, confidence intervals, etc.\n",
    "\n",
    "### 5. What is sampling in statistics?\n",
    "Sampling is selecting a subset from a population to estimate characteristics of the whole.\n",
    "\n",
    "### 6. Types of sampling methods\n",
    "- Random sampling\n",
    "- Stratified sampling\n",
    "- Systematic sampling\n",
    "- Cluster sampling\n",
    "- Convenience sampling\n",
    "\n",
    "### 7. Random vs Non-random sampling\n",
    "- **Random**: Each individual has an equal chance.\n",
    "- **Non-random**: Based on judgment or ease.\n",
    "\n",
    "### 8. Qualitative vs Quantitative Data\n",
    "- **Qualitative (Categorical)**: e.g., gender, color\n",
    "- **Quantitative (Numerical)**: e.g., age, height\n",
    "\n",
    "### 9. Types of data in statistics\n",
    "- **Nominal**: Categories, no order (e.g., blood type)\n",
    "- **Ordinal**: Categories with order (e.g., level of satisfaction)\n",
    "- **Interval**: Order with meaningful difference, no true zero (e.g., temperature in °C)\n",
    "- **Ratio**: Like interval with a true zero (e.g., weight, age)\n"
   ]
  },
  {
   "cell_type": "markdown",
   "id": "8e011c0b",
   "metadata": {},
   "source": [
    "## 🧮 Python: Central Tendency"
   ]
  },
  {
   "cell_type": "code",
   "execution_count": null,
   "id": "81a051df",
   "metadata": {},
   "outputs": [],
   "source": [
    "\n",
    "import numpy as np\n",
    "from scipy import stats\n",
    "\n",
    "data = [10, 15, 10, 20, 30]\n",
    "mean = np.mean(data)\n",
    "median = np.median(data)\n",
    "mode = stats.mode(data).mode[0]\n",
    "\n",
    "print(\"Mean:\", mean)\n",
    "print(\"Median:\", median)\n",
    "print(\"Mode:\", mode)\n"
   ]
  },
  {
   "cell_type": "markdown",
   "id": "08eb59c5",
   "metadata": {},
   "source": [
    "## 📏 Variance and Standard Deviation"
   ]
  },
  {
   "cell_type": "code",
   "execution_count": null,
   "id": "45134f55",
   "metadata": {},
   "outputs": [],
   "source": [
    "\n",
    "variance = np.var(data)\n",
    "std_dev = np.std(data)\n",
    "\n",
    "print(\"Variance:\", variance)\n",
    "print(\"Standard Deviation:\", std_dev)\n"
   ]
  },
  {
   "cell_type": "markdown",
   "id": "d26c3c51",
   "metadata": {},
   "source": [
    "## 📉 Skewness and Kurtosis"
   ]
  },
  {
   "cell_type": "code",
   "execution_count": null,
   "id": "f15e9577",
   "metadata": {},
   "outputs": [],
   "source": [
    "\n",
    "from scipy.stats import skew, kurtosis\n",
    "\n",
    "print(\"Skewness:\", skew(data))\n",
    "print(\"Kurtosis:\", kurtosis(data))\n"
   ]
  }
 ],
 "metadata": {},
 "nbformat": 4,
 "nbformat_minor": 5
}
